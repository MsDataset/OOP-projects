{
  "nbformat": 4,
  "nbformat_minor": 0,
  "metadata": {
    "colab": {
      "provenance": []
    },
    "kernelspec": {
      "name": "python3",
      "display_name": "Python 3"
    },
    "language_info": {
      "name": "python"
    }
  },
  "cells": [
    {
      "cell_type": "code",
      "execution_count": null,
      "metadata": {
        "id": "OatcPP9EycAk"
      },
      "outputs": [],
      "source": [
        "# This is a Student data management program in python\n",
        " \n",
        "# Create class \"Students\"\n",
        "class Students:\n",
        " \n",
        "  # Constructor\n",
        "    def __init__(self, name, regNo, engScore, mathScore):\n",
        "        self.name = name\n",
        "        self.regNo = regNo\n",
        "        self.engScore = engScore\n",
        "        self.mathScore = mathScore\n",
        " \n",
        "    # Function to create and append new student\n",
        "    def accept(self, Name, regNo, marks1, marks2):\n",
        "   \n",
        "  # method to take input from user\n",
        "        newStudent = Students(Name, regNo, marks1, marks2)\n",
        "        ls.append(newStudent)\n",
        " \n",
        "    # Function to display student details\n",
        "    def display(self, newStudent):\n",
        "        print(\"Name : \", newStudent.name)\n",
        "        print(\"Registration No. : \", newStudent.regNo)\n",
        "        print(\"English Score : \", newStudent.engScore)\n",
        "        print(\"Maths Score : \", newStudent.mathScore)\n",
        "        print(\"\\n\")\n",
        "\n"
      ]
    },
    {
      "cell_type": "code",
      "source": [
        "# Create an empty list to add Students\n",
        "ls = []\n",
        "\n",
        "# an object to inherit fron the Student class\n",
        "student = Students('', '', 0, 0)\n",
        "\n",
        "print(\"\\nOperations used, \")\n",
        "print(\"\\n1.Accept Student details\\nand\\n2.Display Student Details\")\n",
        " \n",
        "# Accepting Student Information\n",
        "student.accept(\"Rachael\", '01', 100, 100)\n",
        "student.accept(\"Ruth\", '02', 90, 90)\n",
        "student.accept(\"John\", '03', 80, 80)\n",
        " \n",
        "print(\"\\n\")\n",
        "print(\"\\nList of Students\\n\")\n",
        "for i in range(ls.__len__()):\n",
        "    student.display(ls[i])\n",
        " "
      ],
      "metadata": {
        "colab": {
          "base_uri": "https://localhost:8080/"
        },
        "id": "BswakoSv2bSl",
        "outputId": "6674879b-0c5f-4a37-d6c3-7bf5885c2df5"
      },
      "execution_count": null,
      "outputs": [
        {
          "output_type": "stream",
          "name": "stdout",
          "text": [
            "\n",
            "Operations used, \n",
            "\n",
            "1.Accept Student details\n",
            "and\n",
            "2.Display Student Details\n",
            "\n",
            "\n",
            "\n",
            "List of Students\n",
            "\n",
            "Name :  Rachael\n",
            "Registration No. :  01\n",
            "English Score :  100\n",
            "Maths Score :  100\n",
            "\n",
            "\n",
            "Name :  Ruth\n",
            "Registration No. :  02\n",
            "English Score :  90\n",
            "Maths Score :  90\n",
            "\n",
            "\n",
            "Name :  John\n",
            "Registration No. :  03\n",
            "English Score :  80\n",
            "Maths Score :  80\n",
            "\n",
            "\n"
          ]
        }
      ]
    }
  ]
}